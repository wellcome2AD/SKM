{
  "nbformat": 4,
  "nbformat_minor": 0,
  "metadata": {
    "colab": {
      "name": "Коробейникова. 382008-1",
      "provenance": [],
      "collapsed_sections": [],
      "toc_visible": true
    },
    "kernelspec": {
      "name": "python3",
      "display_name": "Python 3"
    },
    "language_info": {
      "name": "python"
    }
  },
  "cells": [
    {
      "cell_type": "markdown",
      "metadata": {
        "id": "ok4QDAWcOSHd"
      },
      "source": [
        "##Решение задачи 10. Интерполяция\n",
        "######Необходимо:\n",
        "1) определить коэффициенты квадратичной формы $z = ax^2 + bxy + cy^2 + dx+ey+f$ при $z=0$ методом наименьших квадратов, положив $a=1$;\n",
        "######2) изобразить орбиту планеты и построить заданные точки на том же графике;\n",
        "######3) несколько изменить векторы x, y, добавляя к каждой компоненте случайную величину, равномерно распределенную на отрезке $[-.005, .005]$;\n",
        "######4) вычислить новые коэффициенты и изобразить новую орбиту на прежнем графике; \n",
        "######5) объяснить различие коэффициентов и орбит от прежних."
      ]
    },
    {
      "cell_type": "code",
      "metadata": {
        "id": "MovxWE0ztDx0"
      },
      "source": [
        "import numpy as np\n",
        "import matplotlib.pyplot as plt"
      ],
      "execution_count": 31,
      "outputs": []
    },
    {
      "cell_type": "markdown",
      "metadata": {
        "id": "IRbGGLrjRyfG"
      },
      "source": [
        "1) Исходную систему \n",
        "$$\n",
        "\\left\\{\n",
        "\\begin{array}{l}\n",
        "x_0^2 + b x_0 y_0 + c y_0^2 + d x_0 + e y_0 + f = 0, \\\\\n",
        "x_1^2 + b x_1 y_1 + c y_1^2 + d x_1 + e y_1 + f = 0, \\\\\n",
        "\\dots \\\\\n",
        "x_9^2 + b x_9 y_9 + c y_9^2 + d x_9 + e y_9 + f = 0, \\\\\n",
        "\\end{array}\n",
        "\\right.\n",
        "$$\n",
        "преобразуем следующим образом: \n",
        "$$\n",
        "\\left\\{\n",
        "\\begin{array}{l}\n",
        "b x_0 y_0 + c y_0^2 + d x_0 + e y_0 + f = -x_0^2, \\\\\n",
        "b x_1 y_1 + c y_1^2 + d x_1 + e y_1 + f = -x_1^2, \\\\\n",
        "\\dots \\\\\n",
        "b x_9 y_9 + c y_9^2 + d x_9 + e y_9 + f = -x_9^2. \\\\\n",
        "\\end{array}\n",
        "\\right.\n",
        "$$ \n",
        "##### Введём матричное обозначение: \n",
        "### $$ A = \n",
        "\\left(\n",
        "\\begin{array}{ccccc}\n",
        "    x_0*y_0 & y_0^2 & x_0 & y_0 & 0 \\\\\n",
        "    x_1*y_1 & y_1^2 & x_1 & y_1 & 0 \\\\\n",
        "\\dots \\\\\n",
        "    x_9*y_9 & y_9^2 & x_9 & y_9 & 0 \\\\\n",
        "\\end{array}\n",
        "\\right),\n",
        "\\qquad\n",
        "x =\n",
        "\\left(\n",
        "\\begin{array}{c}\n",
        "b \\\\\n",
        "c \\\\\n",
        "d \\\\\n",
        "e \\\\\n",
        "f \\\\\n",
        "\\end{array}\n",
        "\\right),\n",
        "\\qquad\n",
        "B =\n",
        "\\left(\n",
        "\\begin{array}{c}\n",
        "-x_0^2 \\\\\n",
        "-x_1^2 \\\\\n",
        "\\vdots \\\\\n",
        "-x_9^2 \\\\\n",
        "\\end{array}\n",
        "\\right).\n",
        "$$\n",
        "Тогда решение задачи сводится к решению уравнения $A*x=B$. Линейную задачу наименьших квадратов решает функция linalg.lstsq(A, B). \n",
        "#####Исходные данные, вектора $x$ и $y$:"
      ]
    },
    {
      "cell_type": "code",
      "metadata": {
        "id": "zoBKpBoXtL9T"
      },
      "source": [
        "\n",
        "x = np.array([1.02, .95, .87, .77, .67, .56, .44, .30, .16, .01])\n",
        "y = np.array([0.39, .32, .27, .22, .18, .15, .13, .12, .13, .15])"
      ],
      "execution_count": 32,
      "outputs": []
    },
    {
      "cell_type": "markdown",
      "metadata": {
        "id": "UPSqXTsicPzr"
      },
      "source": [
        "Генерируем матрицу констант $A$:"
      ]
    },
    {
      "cell_type": "code",
      "metadata": {
        "id": "MNJ2or0tuTHW"
      },
      "source": [
        "A = np.vstack([x*y, y**2, x, y, np.ones(x.shape)]).T"
      ],
      "execution_count": 33,
      "outputs": []
    },
    {
      "cell_type": "markdown",
      "metadata": {
        "id": "E30pvoWpc2Xq"
      },
      "source": [
        "Решаем систему:"
      ]
    },
    {
      "cell_type": "code",
      "metadata": {
        "id": "eGcTxJkzuYev",
        "colab": {
          "base_uri": "https://localhost:8080/"
        },
        "outputId": "8cbf9bfd-ebad-4a47-bf00-8ed90dd5f091"
      },
      "source": [
        "(b,c,d,e,f), res, rank, s = np.linalg.lstsq(A, -x**2, rcond=None)\n",
        "b,c,d,e,f"
      ],
      "execution_count": 34,
      "outputs": [
        {
          "output_type": "execute_result",
          "data": {
            "text/plain": [
              "(-0.14364618259888937,\n",
              " 2.6356254837120843,\n",
              " -0.5514469631403583,\n",
              " -3.2229403381058916,\n",
              " 0.4328942702644504)"
            ]
          },
          "metadata": {
            "tags": []
          },
          "execution_count": 34
        }
      ]
    },
    {
      "cell_type": "markdown",
      "metadata": {
        "id": "oRFWYtv8fcYS"
      },
      "source": [
        "*lstsq()* возвращает коэффициенты $(b, c, d, e, f)$, сумму квадратов *residuals*, ранг *rank* матрицы X и ее сингулярные числа *sv*.\n",
        "#####Задаём размеры поля для отрисовки в формате (x0, x1, y0, y1) и матрицы координат в этом поле:"
      ]
    },
    {
      "cell_type": "code",
      "metadata": {
        "id": "zlyg96Z3u6mV"
      },
      "source": [
        "ext = (x.min(), x.max(), y.min(), y.max())\n",
        "xm,ym = np.meshgrid(np.linspace(ext[0], ext[1], 1024),\n",
        "                   np.linspace(ext[2], ext[3], 1024))"
      ],
      "execution_count": 35,
      "outputs": []
    },
    {
      "cell_type": "markdown",
      "metadata": {
        "id": "eCslbn5lOfJw"
      },
      "source": [
        "Считаем квадратичную форму:"
      ]
    },
    {
      "cell_type": "code",
      "metadata": {
        "id": "LSTPKdf_Oduo"
      },
      "source": [
        "a=1\n",
        "z = a*xm**2 + b*xm*ym + c*ym**2 + d*xm + e*ym + f"
      ],
      "execution_count": 36,
      "outputs": []
    },
    {
      "cell_type": "markdown",
      "metadata": {
        "id": "XVpTiQStOkQQ"
      },
      "source": [
        "2) Изобразим орбиту планеты и построим заданные точки на одном графике:"
      ]
    },
    {
      "cell_type": "code",
      "metadata": {
        "colab": {
          "base_uri": "https://localhost:8080/",
          "height": 265
        },
        "id": "fAl4KrFkvCau",
        "outputId": "204761e6-d51d-463a-e86d-9c7a53024158"
      },
      "source": [
        "plt.figure()\n",
        "plt.contour(z, levels=0, extent=ext, colors='r')\n",
        "plt.plot(x, y, 'ko', label = 'Исходные данные')\n",
        "plt.legend()\n",
        "plt.show()"
      ],
      "execution_count": 37,
      "outputs": [
        {
          "output_type": "display_data",
          "data": {
            "image/png": "[encoded data removed]",
            "text/plain": [
              "<Figure size 432x288 with 1 Axes>"
            ]
          },
          "metadata": {
            "tags": [],
            "needs_background": "light"
          }
        }
      ]
    },
    {
      "cell_type": "markdown",
      "metadata": {
        "id": "Du47DorWSFZv"
      },
      "source": [
        "Зададим поле побольше:"
      ]
    },
    {
      "cell_type": "code",
      "metadata": {
        "colab": {
          "base_uri": "https://localhost:8080/",
          "height": 265
        },
        "id": "RGN-FnTaSDg2",
        "outputId": "fb32ef04-15a6-403b-ddcd-bbb7ca50ffa1"
      },
      "source": [
        "ext = (-1,1.5,0,1.5)\n",
        "xm,ym = np.meshgrid(np.linspace(ext[0], ext[1], 1024),\n",
        "                   np.linspace(ext[2], ext[3], 1024))\n",
        "a=1\n",
        "z = a*xm**2 + b*xm*ym + c*ym**2 + d*xm + e*ym + f\n",
        "plt.figure()\n",
        "plt.contour(z, levels=0, extent=ext, colors='r')\n",
        "plt.plot(x, y, 'ko', label = 'Исходные данные')\n",
        "plt.legend()\n",
        "plt.show()"
      ],
      "execution_count": 38,
      "outputs": [
        {
          "output_type": "display_data",
          "data": {
            "image/png": "[encoded data removed]",
            "text/plain": [
              "<Figure size 432x288 with 1 Axes>"
            ]
          },
          "metadata": {
            "tags": [],
            "needs_background": "light"
          }
        }
      ]
    },
    {
      "cell_type": "markdown",
      "metadata": {
        "id": "qgNh1OwGTBBM"
      },
      "source": [
        "3) Несколько изменим векторы x, y, добавляя к каждой компоненте случайную величину, равномерно распределенную на отрезке  [−.005,.005]:"
      ]
    },
    {
      "cell_type": "code",
      "metadata": {
        "id": "jzU69HoZvFTs"
      },
      "source": [
        "x = x + (np.random.rand(10)-0.5)*1e-2\n",
        "y = y + (np.random.rand(10)-0.5)*1e-2"
      ],
      "execution_count": 39,
      "outputs": []
    },
    {
      "cell_type": "markdown",
      "metadata": {
        "id": "VdfBzAv6TOIC"
      },
      "source": [
        "4) Вычислим новые коэффициенты и изобразим новую орбиту на прежнем графике:"
      ]
    },
    {
      "cell_type": "code",
      "metadata": {
        "colab": {
          "base_uri": "https://localhost:8080/"
        },
        "id": "EvFbcVtsTUMj",
        "outputId": "4bbb7cff-1669-439f-e987-9e042dcadb45"
      },
      "source": [
        "A = np.vstack([x*y, y**2, x, y, np.ones(x.shape)]).T\n",
        "\n",
        "a=1\n",
        "(b,c,d,e,f), res, rank, s = np.linalg.lstsq(A, -x**2, rcond=None)\n",
        "\n",
        "z1 = a*xm**2 + b*xm*ym + c*ym**2 + d*xm + e*ym + f\n",
        "b,c,d,e,f"
      ],
      "execution_count": 40,
      "outputs": [
        {
          "output_type": "execute_result",
          "data": {
            "text/plain": [
              "(-0.2615110448518436,\n",
              " 2.5288578580161474,\n",
              " -0.53596781330058,\n",
              " -3.021749498901759,\n",
              " 0.40192252616348867)"
            ]
          },
          "metadata": {
            "tags": []
          },
          "execution_count": 40
        }
      ]
    },
    {
      "cell_type": "code",
      "metadata": {
        "colab": {
          "base_uri": "https://localhost:8080/",
          "height": 265
        },
        "id": "YmtsiQ2vVQ1t",
        "outputId": "e83577c7-7938-49e0-8c11-521b0457d671"
      },
      "source": [
        "(-0.14364618259888937,\n",
        " 2.6356254837120843,\n",
        " -0.5514469631403583,\n",
        " -3.2229403381058916,\n",
        " 0.4328942702644504)\n",
        "plt.contour(z1, levels=2, extent=ext, colors = 'b')\n",
        "plt.contour(z, levels=2, extent=ext, colors = 'r')\n",
        "plt.plot(x,y,'ko', label='Данные с шумом')\n",
        "plt.legend()\n",
        "plt.show()"
      ],
      "execution_count": 41,
      "outputs": [
        {
          "output_type": "display_data",
          "data": {
            "image/png": "[encoded data removed]",
            "text/plain": [
              "<Figure size 432x288 with 1 Axes>"
            ]
          },
          "metadata": {
            "tags": [],
            "needs_background": "light"
          }
        }
      ]
    },
    {
      "cell_type": "markdown",
      "metadata": {
        "id": "KfgPcCp-R19n"
      },
      "source": [
        "5) Различие коэффициентов и орбит можно объяснить внесением изменений в данные вектора $x$ и $y$. Можно заметить, что изменения даже на таком малом отрезке как $[-.005, .005]$ существенны и видны невооружённым взглядом."
      ]
    }
  ]
}